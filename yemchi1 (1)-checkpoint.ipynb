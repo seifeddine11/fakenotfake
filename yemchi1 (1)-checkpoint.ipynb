{
 "cells": [
  {
   "cell_type": "code",
   "execution_count": 1,
   "metadata": {},
   "outputs": [],
   "source": [
    "import pandas as pd\n",
    "import numpy as np\n",
    "import itertools\n",
    "from sklearn.feature_extraction.text import CountVectorizer, TfidfVectorizer, HashingVectorizer\n",
    "from sklearn.model_selection import train_test_split\n",
    "from sklearn.linear_model import PassiveAggressiveClassifier, SGDClassifier\n",
    "from sklearn.svm import LinearSVC\n",
    "from sklearn.naive_bayes import MultinomialNB\n",
    "from sklearn import metrics\n",
    "import matplotlib.pyplot as plt"
   ]
  },
  {
   "cell_type": "code",
   "execution_count": 2,
   "metadata": {},
   "outputs": [
    {
     "name": "stdout",
     "output_type": "stream",
     "text": [
      "Populating the interactive namespace from numpy and matplotlib\n"
     ]
    }
   ],
   "source": [
    "%pylab inline"
   ]
  },
  {
   "cell_type": "markdown",
   "metadata": {},
   "source": [
    "### Comparing Fake News Classifiers\n",
    "\n",
    "I wrote a longer explanation of the methodology and approach for detecting fake news using scikit-learn on DataCamp (and you can [find the notebook on my GitHub](https://github.com/kjam/random_hackery/blob/master/Attempting%20to%20detect%20fake%20news.ipynb)). I would start there if you are curious as to why I chose the data, what I learned about the models and so forth.\n",
    "\n",
    "In this notebook, I wanted to compare some of the features learned by each classifier to see if there was overlap or patterns in the features."
   ]
  },
  {
   "cell_type": "code",
   "execution_count": 3,
   "metadata": {},
   "outputs": [
    {
     "name": "stderr",
     "output_type": "stream",
     "text": [
      "b'Skipping line 9: expected 3 fields, saw 9\\nSkipping line 11: expected 3 fields, saw 9\\nSkipping line 12: expected 3 fields, saw 4\\nSkipping line 13: expected 3 fields, saw 11\\nSkipping line 16: expected 3 fields, saw 6\\nSkipping line 17: expected 3 fields, saw 4\\nSkipping line 19: expected 3 fields, saw 10\\nSkipping line 20: expected 3 fields, saw 4\\nSkipping line 22: expected 3 fields, saw 11\\nSkipping line 23: expected 3 fields, saw 5\\nSkipping line 25: expected 3 fields, saw 10\\nSkipping line 26: expected 3 fields, saw 7\\nSkipping line 29: expected 3 fields, saw 4\\nSkipping line 30: expected 3 fields, saw 8\\nSkipping line 31: expected 3 fields, saw 4\\nSkipping line 34: expected 3 fields, saw 4\\nSkipping line 35: expected 3 fields, saw 7\\nSkipping line 40: expected 3 fields, saw 5\\nSkipping line 42: expected 3 fields, saw 8\\nSkipping line 44: expected 3 fields, saw 7\\nSkipping line 45: expected 3 fields, saw 8\\nSkipping line 47: expected 3 fields, saw 9\\nSkipping line 49: expected 3 fields, saw 5\\nSkipping line 50: expected 3 fields, saw 4\\nSkipping line 51: expected 3 fields, saw 4\\nSkipping line 52: expected 3 fields, saw 13\\nSkipping line 55: expected 3 fields, saw 7\\nSkipping line 56: expected 3 fields, saw 6\\nSkipping line 58: expected 3 fields, saw 4\\nSkipping line 60: expected 3 fields, saw 4\\nSkipping line 62: expected 3 fields, saw 6\\nSkipping line 66: expected 3 fields, saw 5\\nSkipping line 68: expected 3 fields, saw 4\\nSkipping line 69: expected 3 fields, saw 5\\nSkipping line 71: expected 3 fields, saw 6\\nSkipping line 72: expected 3 fields, saw 8\\nSkipping line 73: expected 3 fields, saw 4\\nSkipping line 81: expected 3 fields, saw 10\\nSkipping line 83: expected 3 fields, saw 4\\nSkipping line 96: expected 3 fields, saw 4\\nSkipping line 98: expected 3 fields, saw 4\\nSkipping line 99: expected 3 fields, saw 11\\nSkipping line 101: expected 3 fields, saw 4\\nSkipping line 102: expected 3 fields, saw 6\\nSkipping line 103: expected 3 fields, saw 7\\nSkipping line 107: expected 3 fields, saw 5\\nSkipping line 149: expected 3 fields, saw 4\\n'\n"
     ]
    }
   ],
   "source": [
    "df = pd.read_csv(r'TestAndTrain123.csv',encoding='latin-1', error_bad_lines=False)"
   ]
  },
  {
   "cell_type": "code",
   "execution_count": 4,
   "metadata": {},
   "outputs": [],
   "source": [
    "y = df.label"
   ]
  },
  {
   "cell_type": "code",
   "execution_count": 5,
   "metadata": {},
   "outputs": [],
   "source": [
    "df = df.drop('label', axis=1)"
   ]
  },
  {
   "cell_type": "code",
   "execution_count": 6,
   "metadata": {},
   "outputs": [],
   "source": [
    "X_train, X_test, y_train, y_test = train_test_split(df['text'], y, test_size=0.33, random_state=53)"
   ]
  },
  {
   "cell_type": "code",
   "execution_count": 7,
   "metadata": {},
   "outputs": [],
   "source": [
    "count_vectorizer = CountVectorizer(stop_words='english')\n",
    "count_train = count_vectorizer.fit_transform(X_train)\n",
    "count_test = count_vectorizer.transform(X_test)"
   ]
  },
  {
   "cell_type": "code",
   "execution_count": 8,
   "metadata": {},
   "outputs": [],
   "source": [
    "tfidf_vectorizer = TfidfVectorizer(stop_words='english', max_df=0.7)\n",
    "tfidf_train = tfidf_vectorizer.fit_transform(X_train)\n",
    "tfidf_test = tfidf_vectorizer.transform(X_test)"
   ]
  },
  {
   "cell_type": "markdown",
   "metadata": {},
   "source": [
    "### Training models\n",
    "\n",
    "Now I have my vectors and I can create my different classifiers. In my post I noted that there is definitely noise in the dataset, so we should expect to see that reflected in our features. Normally, I would spend some time cleaning the data, but this was a small proof of concept and investigation. I hoped merely that at least one model would be able to correct for the noise.\n",
    "\n",
    "I will compare the following models (and training data):\n",
    "\n",
    "- multinomialNB with counts (`sgd_count_clf`)\n",
    "- multinomialNB with tf-idf (`mn_tfidf_clf`)\n",
    "- passive aggressive with tf-idf (`pa_tfidf_clf`)\n",
    "- linear svc with tf-idf (`svc_tfidf_clf`)\n",
    "- linear sgd with tf-idf (`sgd_tfidf_clf`)\n",
    "\n",
    "For speed and clarity, I am primarily not doing parameter tuning, although this could be added as a step (perhaps in a scikit-learn Pipeline)."
   ]
  },
  {
   "cell_type": "code",
   "execution_count": 9,
   "metadata": {},
   "outputs": [],
   "source": [
    "mn_count_clf = MultinomialNB(alpha=0.1) "
   ]
  },
  {
   "cell_type": "code",
   "execution_count": 10,
   "metadata": {},
   "outputs": [
    {
     "name": "stdout",
     "output_type": "stream",
     "text": [
      "accuracy:   0.588\n"
     ]
    }
   ],
   "source": [
    "mn_count_clf.fit(count_train, y_train)\n",
    "pred = mn_count_clf.predict(count_test)\n",
    "score = metrics.accuracy_score(y_test, pred)\n",
    "print(\"accuracy:   %0.3f\" % score)"
   ]
  },
  {
   "cell_type": "code",
   "execution_count": 11,
   "metadata": {},
   "outputs": [],
   "source": [
    "mn_tfidf_clf = MultinomialNB(alpha=0.1) "
   ]
  },
  {
   "cell_type": "code",
   "execution_count": 12,
   "metadata": {},
   "outputs": [
    {
     "name": "stdout",
     "output_type": "stream",
     "text": [
      "accuracy:   0.618\n"
     ]
    }
   ],
   "source": [
    "mn_tfidf_clf.fit(tfidf_train, y_train)\n",
    "pred = mn_tfidf_clf.predict(tfidf_test)\n",
    "score = metrics.accuracy_score(y_test, pred)\n",
    "print(\"accuracy:   %0.3f\" % score)"
   ]
  },
  {
   "cell_type": "code",
   "execution_count": 13,
   "metadata": {},
   "outputs": [],
   "source": [
    "pa_tfidf_clf = PassiveAggressiveClassifier()"
   ]
  },
  {
   "cell_type": "code",
   "execution_count": 14,
   "metadata": {},
   "outputs": [
    {
     "name": "stdout",
     "output_type": "stream",
     "text": [
      "accuracy:   0.588\n"
     ]
    }
   ],
   "source": [
    "pa_tfidf_clf.fit(tfidf_train, y_train)\n",
    "pred = pa_tfidf_clf.predict(tfidf_test)\n",
    "score = metrics.accuracy_score(y_test, pred)\n",
    "print(\"accuracy:   %0.3f\" % score)"
   ]
  },
  {
   "cell_type": "code",
   "execution_count": 15,
   "metadata": {},
   "outputs": [],
   "source": [
    "svc_tfidf_clf = LinearSVC()"
   ]
  },
  {
   "cell_type": "code",
   "execution_count": 16,
   "metadata": {},
   "outputs": [
    {
     "name": "stdout",
     "output_type": "stream",
     "text": [
      "accuracy:   0.529\n"
     ]
    }
   ],
   "source": [
    "svc_tfidf_clf.fit(tfidf_train, y_train)\n",
    "pred = svc_tfidf_clf.predict(tfidf_test)\n",
    "score = metrics.accuracy_score(y_test, pred)\n",
    "print(\"accuracy:   %0.3f\" % score)"
   ]
  },
  {
   "cell_type": "code",
   "execution_count": 17,
   "metadata": {},
   "outputs": [],
   "source": [
    "sgd_tfidf_clf = SGDClassifier()"
   ]
  },
  {
   "cell_type": "code",
   "execution_count": 18,
   "metadata": {},
   "outputs": [
    {
     "name": "stdout",
     "output_type": "stream",
     "text": [
      "accuracy:   0.588\n"
     ]
    }
   ],
   "source": [
    "sgd_tfidf_clf.fit(tfidf_train, y_train)\n",
    "pred = sgd_tfidf_clf.predict(tfidf_test)\n",
    "score = metrics.accuracy_score(y_test, pred)\n",
    "print(\"accuracy:   %0.3f\" % score)"
   ]
  },
  {
   "cell_type": "code",
   "execution_count": 19,
   "metadata": {},
   "outputs": [],
   "source": [
    "sgd_tfidf_clf.decision_function?"
   ]
  },
  {
   "cell_type": "code",
   "execution_count": 20,
   "metadata": {},
   "outputs": [],
   "source": [
    "mn_count_clf.predict_proba?"
   ]
  },
  {
   "cell_type": "code",
   "execution_count": 21,
   "metadata": {},
   "outputs": [
    {
     "data": {
      "text/plain": [
       "<matplotlib.legend.Legend at 0x17d0d03bc18>"
      ]
     },
     "execution_count": 21,
     "metadata": {},
     "output_type": "execute_result"
    },
    {
     "data": {
      "image/png": "[encoded data removed]",
      "text/plain": [
       "<Figure size 432x288 with 1 Axes>"
      ]
     },
     "metadata": {
      "needs_background": "light"
     },
     "output_type": "display_data"
    }
   ],
   "source": [
    "plt.figure(0).clf()\n",
    "\n",
    "for model, name in [ (mn_count_clf, 'multinomial nb count'),\n",
    "                     (mn_tfidf_clf, 'multinomial nb tfidf'),\n",
    "                     (pa_tfidf_clf, 'passive aggressive'),\n",
    "                     (svc_tfidf_clf, 'svc'),\n",
    "                     (sgd_tfidf_clf, 'sgd')]:\n",
    "    if 'count' in name:\n",
    "        pred = model.predict_proba(count_test)[:,1]\n",
    "    elif 'multinomial' in name:\n",
    "        pred = model.predict_proba(tfidf_test)[:,1]\n",
    "    else: \n",
    "        pred = model.decision_function(tfidf_test)\n",
    "    fpr, tpr, thresh = metrics.roc_curve(y_test.values, pred, pos_label='REAL')\n",
    "    plt.plot(fpr,tpr,label=\"{}\".format(name))\n",
    "\n",
    "plt.legend(loc=0)"
   ]
  },
  {
   "cell_type": "markdown",
   "metadata": {},
   "source": [
    "### Introspecting models\n",
    "\n",
    "My main goal for this notebook is not to compare accuracy, but to compare features learned. To do so, we can use the method shown in this [very useful StackOverflow answer](https://stackoverflow.com/a/26980472) to show significant features in a binary classifier. I will use a modified version to return top features for each label."
   ]
  },
  {
   "cell_type": "code",
   "execution_count": 22,
   "metadata": {},
   "outputs": [
    {
     "data": {
      "text/plain": [
       "{'FAKE': [(-2.716222336335082, 'chronic'),\n",
       "  (-2.5664779346399884, 'taxes'),\n",
       "  (-2.3452288177299554, 'second'),\n",
       "  (-2.2333710510475817, 'good'),\n",
       "  (-2.1998525821491586, 'man'),\n",
       "  (-1.9065191262702519, 'accepted'),\n",
       "  (-0.9532595631351259, 'acceptance'),\n",
       "  (-0.9532595631351259, 'accepting'),\n",
       "  (-0.9532595631351259, 'applauded'),\n",
       "  (-0.9532595631351259, 'foster')],\n",
       " 'REAL': [(0.9017821600417825, 'blow'),\n",
       "  (0.9017821600417825, 'case'),\n",
       "  (0.9017821600417825, 'creating'),\n",
       "  (0.9017821600417825, 'creation'),\n",
       "  (0.9017821600417825, 'dealt'),\n",
       "  (0.9017821600417825, 'happened'),\n",
       "  (0.9017821600417825, 'harmed'),\n",
       "  (0.9017821600417825, 'monopolies'),\n",
       "  (0.9767987058012866, 'block'),\n",
       "  (2.351396045837897, 'immigration')]}"
      ]
     },
     "execution_count": 22,
     "metadata": {},
     "output_type": "execute_result"
    }
   ],
   "source": [
    "def most_informative_feature_for_binary_classification(vectorizer, classifier, n=100):\n",
    "    \"\"\"\n",
    "    See: https://stackoverflow.com/a/26980472\n",
    "    \n",
    "    Identify most important features if given a vectorizer and binary classifier. Set n to the number\n",
    "    of weighted features you would like to show. (Note: current implementation merely prints and does not \n",
    "    return top classes.)\n",
    "    \n",
    "    Modified by @kjam to support a dict return.\n",
    "    \"\"\"\n",
    "\n",
    "    class_labels = classifier.classes_\n",
    "    feature_names = vectorizer.get_feature_names()\n",
    "    topn_class1 = sorted(zip(classifier.coef_[0], feature_names))[:n]\n",
    "    topn_class2 = sorted(zip(classifier.coef_[0], feature_names))[-n:]\n",
    "\n",
    "    return {class_labels[0]: topn_class1,\n",
    "            class_labels[1]: topn_class2\n",
    "    }\n",
    "\n",
    "\n",
    "most_informative_feature_for_binary_classification(tfidf_vectorizer, pa_tfidf_clf, n=10)"
   ]
  },
  {
   "cell_type": "code",
   "execution_count": 23,
   "metadata": {},
   "outputs": [],
   "source": [
    "classifiers = [(mn_count_clf, count_vectorizer),\n",
    "               (mn_tfidf_clf, tfidf_vectorizer),\n",
    "               (pa_tfidf_clf, tfidf_vectorizer),\n",
    "               (svc_tfidf_clf, tfidf_vectorizer),\n",
    "               (sgd_tfidf_clf, tfidf_vectorizer)]"
   ]
  },
  {
   "cell_type": "code",
   "execution_count": 24,
   "metadata": {},
   "outputs": [],
   "source": [
    "results = {}\n",
    "for clf, vct in classifiers:\n",
    "    results[clf] = most_informative_feature_for_binary_classification(vct, clf, n=10)"
   ]
  },
  {
   "cell_type": "code",
   "execution_count": 25,
   "metadata": {},
   "outputs": [
    {
     "data": {
      "text/plain": [
       "{MultinomialNB(alpha=0.1, class_prior=None, fit_prior=True): {'FAKE': [(-9.946977983610656,\n",
       "    '100th'),\n",
       "   (-9.946977983610656, '12th'),\n",
       "   (-9.946977983610656, '16'),\n",
       "   (-9.946977983610656, '1950s'),\n",
       "   (-9.946977983610656, '1960s'),\n",
       "   (-9.946977983610656, '1978'),\n",
       "   (-9.946977983610656, '200'),\n",
       "   (-9.946977983610656, '2007'),\n",
       "   (-9.946977983610656, '2011'),\n",
       "   (-9.946977983610656, '20m')],\n",
       "  'REAL': [(-5.684298106569341, 'president'),\n",
       "   (-5.684298106569341, 'trump'),\n",
       "   (-5.552528828938217, 'commission'),\n",
       "   (-5.552528828938217, 'exchange'),\n",
       "   (-5.552528828938217, 'stock'),\n",
       "   (-5.436118477093807, 'company'),\n",
       "   (-5.436118477093807, 'deal'),\n",
       "   (-5.436118477093807, 'firm'),\n",
       "   (-5.331857466769397, 'eu'),\n",
       "   (-4.273654716439164, 'said')]},\n",
       " MultinomialNB(alpha=0.1, class_prior=None, fit_prior=True): {'FAKE': [(-8.339818201229322,\n",
       "    '100th'),\n",
       "   (-8.339818201229322, '12th'),\n",
       "   (-8.339818201229322, '16'),\n",
       "   (-8.339818201229322, '1950s'),\n",
       "   (-8.339818201229322, '1960s'),\n",
       "   (-8.339818201229322, '1978'),\n",
       "   (-8.339818201229322, '200'),\n",
       "   (-8.339818201229322, '2007'),\n",
       "   (-8.339818201229322, '2011'),\n",
       "   (-8.339818201229322, '20m')],\n",
       "  'REAL': [(-6.418573925454975, 'billion'),\n",
       "   (-6.406026340281887, 'exchange'),\n",
       "   (-6.403966111501596, 'deal'),\n",
       "   (-6.387730227468486, 'firm'),\n",
       "   (-6.362406779412281, 'stock'),\n",
       "   (-6.359340488297463, 'china'),\n",
       "   (-6.340465153678301, 'lse'),\n",
       "   (-6.2815622521501595, 'company'),\n",
       "   (-6.272961041912019, 'eu'),\n",
       "   (-5.742475991864196, 'said')]},\n",
       " PassiveAggressiveClassifier(C=1.0, average=False, class_weight=None,\n",
       "                             early_stopping=False, fit_intercept=True,\n",
       "                             loss='hinge', max_iter=1000, n_iter_no_change=5,\n",
       "                             n_jobs=None, random_state=None, shuffle=True,\n",
       "                             tol=0.001, validation_fraction=0.1, verbose=0,\n",
       "                             warm_start=False): {'FAKE': [(-2.716222336335082,\n",
       "    'chronic'),\n",
       "   (-2.5664779346399884, 'taxes'),\n",
       "   (-2.3452288177299554, 'second'),\n",
       "   (-2.2333710510475817, 'good'),\n",
       "   (-2.1998525821491586, 'man'),\n",
       "   (-1.9065191262702519, 'accepted'),\n",
       "   (-0.9532595631351259, 'acceptance'),\n",
       "   (-0.9532595631351259, 'accepting'),\n",
       "   (-0.9532595631351259, 'applauded'),\n",
       "   (-0.9532595631351259, 'foster')],\n",
       "  'REAL': [(0.9017821600417825, 'blow'),\n",
       "   (0.9017821600417825, 'case'),\n",
       "   (0.9017821600417825, 'creating'),\n",
       "   (0.9017821600417825, 'creation'),\n",
       "   (0.9017821600417825, 'dealt'),\n",
       "   (0.9017821600417825, 'happened'),\n",
       "   (0.9017821600417825, 'harmed'),\n",
       "   (0.9017821600417825, 'monopolies'),\n",
       "   (0.9767987058012866, 'block'),\n",
       "   (2.351396045837897, 'immigration')]},\n",
       " LinearSVC(C=1.0, class_weight=None, dual=True, fit_intercept=True,\n",
       "           intercept_scaling=1, loss='squared_hinge', max_iter=1000,\n",
       "           multi_class='ovr', penalty='l2', random_state=None, tol=0.0001,\n",
       "           verbose=0): {'FAKE': [(-0.3529489479943914, 'good'),\n",
       "   (-0.3455900464665536, 'banks'),\n",
       "   (-0.34443257454602866, 'taxes'),\n",
       "   (-0.32715797283245096, 'supports'),\n",
       "   (-0.32298253362819307, 'accepted'),\n",
       "   (-0.3032854970810706, 'people'),\n",
       "   (-0.30075851382497, 'fox'),\n",
       "   (-0.29806764273787556, 'time'),\n",
       "   (-0.2950283551437051, 'rest'),\n",
       "   (-0.28946355715899946, 'stated')],\n",
       "  'REAL': [(0.33366489011060696, 'costs'),\n",
       "   (0.3410972469154007, 'devos'),\n",
       "   (0.3440104489633723, 'billion'),\n",
       "   (0.35247847057972, 'tesla'),\n",
       "   (0.35414928730223216, 'tax'),\n",
       "   (0.35787998450955427, 'souq'),\n",
       "   (0.3895118209173843, 'pay'),\n",
       "   (0.4317301918208393, 'ford'),\n",
       "   (0.44032753970133126, 'amazon'),\n",
       "   (0.5861804687721129, 'said')]},\n",
       " SGDClassifier(alpha=0.0001, average=False, class_weight=None,\n",
       "               early_stopping=False, epsilon=0.1, eta0=0.0, fit_intercept=True,\n",
       "               l1_ratio=0.15, learning_rate='optimal', loss='hinge',\n",
       "               max_iter=1000, n_iter_no_change=5, n_jobs=None, penalty='l2',\n",
       "               power_t=0.5, random_state=None, shuffle=True, tol=0.001,\n",
       "               validation_fraction=0.1, verbose=0, warm_start=False): {'FAKE': [(-7.969427599491965,\n",
       "    'chronic'),\n",
       "   (-6.760452949955524, 'second'),\n",
       "   (-6.686297182424339, 'taxes'),\n",
       "   (-6.639041176421905, 'good'),\n",
       "   (-6.517957168656917, 'man'),\n",
       "   (-5.273890645386535, 'accepted'),\n",
       "   (-2.6369453226932675, 'acceptance'),\n",
       "   (-2.6369453226932675, 'accepting'),\n",
       "   (-2.6369453226932675, 'applauded'),\n",
       "   (-2.6369453226932675, 'foster')],\n",
       "  'REAL': [(2.6280879349995905, 'case'),\n",
       "   (2.6280879349995905, 'creating'),\n",
       "   (2.6280879349995905, 'creation'),\n",
       "   (2.6280879349995905, 'dealt'),\n",
       "   (2.6280879349995905, 'happened'),\n",
       "   (2.6280879349995905, 'harmed'),\n",
       "   (2.6280879349995905, 'monopolies'),\n",
       "   (2.902900338172482, 'block'),\n",
       "   (2.907248096929784, 'said'),\n",
       "   (6.951827252541858, 'immigration')]}}"
      ]
     },
     "execution_count": 25,
     "metadata": {},
     "output_type": "execute_result"
    }
   ],
   "source": [
    "results"
   ]
  },
  {
   "cell_type": "markdown",
   "metadata": {},
   "source": [
    "But this is both a bit hard to read and compare. What I really want is to see these possibly with ranks and compare the tokens to one another. Let's transform the data to look better for what we are trying to measure."
   ]
  },
  {
   "cell_type": "code",
   "execution_count": 26,
   "metadata": {},
   "outputs": [],
   "source": [
    "comparable_results = {'REAL': {}, 'FAKE': {}}\n",
    "for clf, data in results.items():\n",
    "    clf_name = clf.__class__.__name__\n",
    "    for label, features in data.items():\n",
    "        for rank, score_tuple in enumerate(features):\n",
    "            if score_tuple[1] in comparable_results[label]:\n",
    "                comparable_results[label][score_tuple[1]].append((rank + 1, clf_name))\n",
    "            else:\n",
    "                comparable_results[label][score_tuple[1]] = [(rank + 1, clf_name)]"
   ]
  },
  {
   "cell_type": "markdown",
   "metadata": {},
   "source": [
    "Now these are a bit easier to compare and read:"
   ]
  },
  {
   "cell_type": "code",
   "execution_count": 27,
   "metadata": {},
   "outputs": [
    {
     "data": {
      "text/plain": [
       "{'100th': [(1, 'MultinomialNB'), (1, 'MultinomialNB')],\n",
       " '12th': [(2, 'MultinomialNB'), (2, 'MultinomialNB')],\n",
       " '16': [(3, 'MultinomialNB'), (3, 'MultinomialNB')],\n",
       " '1950s': [(4, 'MultinomialNB'), (4, 'MultinomialNB')],\n",
       " '1960s': [(5, 'MultinomialNB'), (5, 'MultinomialNB')],\n",
       " '1978': [(6, 'MultinomialNB'), (6, 'MultinomialNB')],\n",
       " '200': [(7, 'MultinomialNB'), (7, 'MultinomialNB')],\n",
       " '2007': [(8, 'MultinomialNB'), (8, 'MultinomialNB')],\n",
       " '2011': [(9, 'MultinomialNB'), (9, 'MultinomialNB')],\n",
       " '20m': [(10, 'MultinomialNB'), (10, 'MultinomialNB')],\n",
       " 'chronic': [(1, 'PassiveAggressiveClassifier'), (1, 'SGDClassifier')],\n",
       " 'taxes': [(2, 'PassiveAggressiveClassifier'),\n",
       "  (3, 'LinearSVC'),\n",
       "  (3, 'SGDClassifier')],\n",
       " 'second': [(3, 'PassiveAggressiveClassifier'), (2, 'SGDClassifier')],\n",
       " 'good': [(4, 'PassiveAggressiveClassifier'),\n",
       "  (1, 'LinearSVC'),\n",
       "  (4, 'SGDClassifier')],\n",
       " 'man': [(5, 'PassiveAggressiveClassifier'), (5, 'SGDClassifier')],\n",
       " 'accepted': [(6, 'PassiveAggressiveClassifier'),\n",
       "  (5, 'LinearSVC'),\n",
       "  (6, 'SGDClassifier')],\n",
       " 'acceptance': [(7, 'PassiveAggressiveClassifier'), (7, 'SGDClassifier')],\n",
       " 'accepting': [(8, 'PassiveAggressiveClassifier'), (8, 'SGDClassifier')],\n",
       " 'applauded': [(9, 'PassiveAggressiveClassifier'), (9, 'SGDClassifier')],\n",
       " 'foster': [(10, 'PassiveAggressiveClassifier'), (10, 'SGDClassifier')],\n",
       " 'banks': [(2, 'LinearSVC')],\n",
       " 'supports': [(4, 'LinearSVC')],\n",
       " 'people': [(6, 'LinearSVC')],\n",
       " 'fox': [(7, 'LinearSVC')],\n",
       " 'time': [(8, 'LinearSVC')],\n",
       " 'rest': [(9, 'LinearSVC')],\n",
       " 'stated': [(10, 'LinearSVC')]}"
      ]
     },
     "execution_count": 27,
     "metadata": {},
     "output_type": "execute_result"
    }
   ],
   "source": [
    "comparable_results['FAKE']"
   ]
  },
  {
   "cell_type": "markdown",
   "metadata": {},
   "source": [
    "I immediately noticed the multinomial models had picked up quite a bit of noise from the dataset. These models likely would have benefit from some preprocessing. I also noticed that *most* of the models had picked up what I would consider noise, such as `2016` and the words `print` and `share` (which are clearly scraping artifacts).\n",
    "\n",
    "Let's see if we can score the tokens by popularity and rank. I also wanted to add in a warning message in case I had overlap between my real and fake tokens. (This may be the case if you take a larger n-features from each)"
   ]
  },
  {
   "cell_type": "code",
   "execution_count": 28,
   "metadata": {},
   "outputs": [],
   "source": [
    "agg_results = {}\n",
    "for label, features in comparable_results.items():\n",
    "    for feature, ranks in features.items():\n",
    "        if feature in agg_results:\n",
    "            print(\"WARNING! DUPLICATE LABEL!!! {}\".format(feature))\n",
    "        agg_results[feature] = {\n",
    "            'label': label,\n",
    "            'agg_rank': np.mean([r[0] for r in ranks]),\n",
    "            'count': len(ranks)\n",
    "        }"
   ]
  },
  {
   "cell_type": "markdown",
   "metadata": {},
   "source": [
    "I can then put this into a dataframe, for easier transformations and viewing."
   ]
  },
  {
   "cell_type": "code",
   "execution_count": 29,
   "metadata": {},
   "outputs": [],
   "source": [
    "comparison_df = pd.DataFrame(agg_results).T"
   ]
  },
  {
   "cell_type": "code",
   "execution_count": 30,
   "metadata": {},
   "outputs": [
    {
     "data": {
      "text/html": [
       "<div>\n",
       "<style scoped>\n",
       "    .dataframe tbody tr th:only-of-type {\n",
       "        vertical-align: middle;\n",
       "    }\n",
       "\n",
       "    .dataframe tbody tr th {\n",
       "        vertical-align: top;\n",
       "    }\n",
       "\n",
       "    .dataframe thead th {\n",
       "        text-align: right;\n",
       "    }\n",
       "</style>\n",
       "<table border=\"1\" class=\"dataframe\">\n",
       "  <thead>\n",
       "    <tr style=\"text-align: right;\">\n",
       "      <th></th>\n",
       "      <th>agg_rank</th>\n",
       "      <th>count</th>\n",
       "      <th>label</th>\n",
       "    </tr>\n",
       "  </thead>\n",
       "  <tbody>\n",
       "    <tr>\n",
       "      <th>president</th>\n",
       "      <td>1</td>\n",
       "      <td>1</td>\n",
       "      <td>REAL</td>\n",
       "    </tr>\n",
       "    <tr>\n",
       "      <th>trump</th>\n",
       "      <td>2</td>\n",
       "      <td>1</td>\n",
       "      <td>REAL</td>\n",
       "    </tr>\n",
       "    <tr>\n",
       "      <th>commission</th>\n",
       "      <td>3</td>\n",
       "      <td>1</td>\n",
       "      <td>REAL</td>\n",
       "    </tr>\n",
       "    <tr>\n",
       "      <th>exchange</th>\n",
       "      <td>3</td>\n",
       "      <td>2</td>\n",
       "      <td>REAL</td>\n",
       "    </tr>\n",
       "    <tr>\n",
       "      <th>stock</th>\n",
       "      <td>5</td>\n",
       "      <td>2</td>\n",
       "      <td>REAL</td>\n",
       "    </tr>\n",
       "  </tbody>\n",
       "</table>\n",
       "</div>"
      ],
      "text/plain": [
       "           agg_rank count label\n",
       "president         1     1  REAL\n",
       "trump             2     1  REAL\n",
       "commission        3     1  REAL\n",
       "exchange          3     2  REAL\n",
       "stock             5     2  REAL"
      ]
     },
     "execution_count": 30,
     "metadata": {},
     "output_type": "execute_result"
    }
   ],
   "source": [
    "comparison_df.head()"
   ]
  },
  {
   "cell_type": "markdown",
   "metadata": {},
   "source": [
    "To investigate the top real and fake labels, I would advise to sort by count. Let's see my top 10 tokens for real and fake news ranked by the number of classifiers that used them as a top feature."
   ]
  },
  {
   "cell_type": "code",
   "execution_count": 31,
   "metadata": {},
   "outputs": [
    {
     "data": {
      "text/html": [
       "<div>\n",
       "<style scoped>\n",
       "    .dataframe tbody tr th:only-of-type {\n",
       "        vertical-align: middle;\n",
       "    }\n",
       "\n",
       "    .dataframe tbody tr th {\n",
       "        vertical-align: top;\n",
       "    }\n",
       "\n",
       "    .dataframe thead th {\n",
       "        text-align: right;\n",
       "    }\n",
       "</style>\n",
       "<table border=\"1\" class=\"dataframe\">\n",
       "  <thead>\n",
       "    <tr style=\"text-align: right;\">\n",
       "      <th></th>\n",
       "      <th>agg_rank</th>\n",
       "      <th>count</th>\n",
       "      <th>label</th>\n",
       "    </tr>\n",
       "  </thead>\n",
       "  <tbody>\n",
       "    <tr>\n",
       "      <th>said</th>\n",
       "      <td>9.75</td>\n",
       "      <td>4</td>\n",
       "      <td>REAL</td>\n",
       "    </tr>\n",
       "    <tr>\n",
       "      <th>creating</th>\n",
       "      <td>2.5</td>\n",
       "      <td>2</td>\n",
       "      <td>REAL</td>\n",
       "    </tr>\n",
       "    <tr>\n",
       "      <th>billion</th>\n",
       "      <td>2</td>\n",
       "      <td>2</td>\n",
       "      <td>REAL</td>\n",
       "    </tr>\n",
       "    <tr>\n",
       "      <th>block</th>\n",
       "      <td>8.5</td>\n",
       "      <td>2</td>\n",
       "      <td>REAL</td>\n",
       "    </tr>\n",
       "    <tr>\n",
       "      <th>monopolies</th>\n",
       "      <td>7.5</td>\n",
       "      <td>2</td>\n",
       "      <td>REAL</td>\n",
       "    </tr>\n",
       "    <tr>\n",
       "      <th>harmed</th>\n",
       "      <td>6.5</td>\n",
       "      <td>2</td>\n",
       "      <td>REAL</td>\n",
       "    </tr>\n",
       "    <tr>\n",
       "      <th>happened</th>\n",
       "      <td>5.5</td>\n",
       "      <td>2</td>\n",
       "      <td>REAL</td>\n",
       "    </tr>\n",
       "    <tr>\n",
       "      <th>dealt</th>\n",
       "      <td>4.5</td>\n",
       "      <td>2</td>\n",
       "      <td>REAL</td>\n",
       "    </tr>\n",
       "    <tr>\n",
       "      <th>creation</th>\n",
       "      <td>3.5</td>\n",
       "      <td>2</td>\n",
       "      <td>REAL</td>\n",
       "    </tr>\n",
       "    <tr>\n",
       "      <th>case</th>\n",
       "      <td>1.5</td>\n",
       "      <td>2</td>\n",
       "      <td>REAL</td>\n",
       "    </tr>\n",
       "  </tbody>\n",
       "</table>\n",
       "</div>"
      ],
      "text/plain": [
       "           agg_rank count label\n",
       "said           9.75     4  REAL\n",
       "creating        2.5     2  REAL\n",
       "billion           2     2  REAL\n",
       "block           8.5     2  REAL\n",
       "monopolies      7.5     2  REAL\n",
       "harmed          6.5     2  REAL\n",
       "happened        5.5     2  REAL\n",
       "dealt           4.5     2  REAL\n",
       "creation        3.5     2  REAL\n",
       "case            1.5     2  REAL"
      ]
     },
     "execution_count": 31,
     "metadata": {},
     "output_type": "execute_result"
    }
   ],
   "source": [
    "comparison_df[comparison_df['label'] == 'REAL'].sort_values('count', ascending=0).head(10)"
   ]
  },
  {
   "cell_type": "code",
   "execution_count": 32,
   "metadata": {},
   "outputs": [
    {
     "data": {
      "text/html": [
       "<div>\n",
       "<style scoped>\n",
       "    .dataframe tbody tr th:only-of-type {\n",
       "        vertical-align: middle;\n",
       "    }\n",
       "\n",
       "    .dataframe tbody tr th {\n",
       "        vertical-align: top;\n",
       "    }\n",
       "\n",
       "    .dataframe thead th {\n",
       "        text-align: right;\n",
       "    }\n",
       "</style>\n",
       "<table border=\"1\" class=\"dataframe\">\n",
       "  <thead>\n",
       "    <tr style=\"text-align: right;\">\n",
       "      <th></th>\n",
       "      <th>agg_rank</th>\n",
       "      <th>count</th>\n",
       "      <th>label</th>\n",
       "    </tr>\n",
       "  </thead>\n",
       "  <tbody>\n",
       "    <tr>\n",
       "      <th>good</th>\n",
       "      <td>3</td>\n",
       "      <td>3</td>\n",
       "      <td>FAKE</td>\n",
       "    </tr>\n",
       "    <tr>\n",
       "      <th>taxes</th>\n",
       "      <td>2.66667</td>\n",
       "      <td>3</td>\n",
       "      <td>FAKE</td>\n",
       "    </tr>\n",
       "    <tr>\n",
       "      <th>accepted</th>\n",
       "      <td>5.66667</td>\n",
       "      <td>3</td>\n",
       "      <td>FAKE</td>\n",
       "    </tr>\n",
       "    <tr>\n",
       "      <th>foster</th>\n",
       "      <td>10</td>\n",
       "      <td>2</td>\n",
       "      <td>FAKE</td>\n",
       "    </tr>\n",
       "    <tr>\n",
       "      <th>applauded</th>\n",
       "      <td>9</td>\n",
       "      <td>2</td>\n",
       "      <td>FAKE</td>\n",
       "    </tr>\n",
       "    <tr>\n",
       "      <th>accepting</th>\n",
       "      <td>8</td>\n",
       "      <td>2</td>\n",
       "      <td>FAKE</td>\n",
       "    </tr>\n",
       "    <tr>\n",
       "      <th>acceptance</th>\n",
       "      <td>7</td>\n",
       "      <td>2</td>\n",
       "      <td>FAKE</td>\n",
       "    </tr>\n",
       "    <tr>\n",
       "      <th>man</th>\n",
       "      <td>5</td>\n",
       "      <td>2</td>\n",
       "      <td>FAKE</td>\n",
       "    </tr>\n",
       "    <tr>\n",
       "      <th>12th</th>\n",
       "      <td>2</td>\n",
       "      <td>2</td>\n",
       "      <td>FAKE</td>\n",
       "    </tr>\n",
       "    <tr>\n",
       "      <th>second</th>\n",
       "      <td>2.5</td>\n",
       "      <td>2</td>\n",
       "      <td>FAKE</td>\n",
       "    </tr>\n",
       "  </tbody>\n",
       "</table>\n",
       "</div>"
      ],
      "text/plain": [
       "           agg_rank count label\n",
       "good              3     3  FAKE\n",
       "taxes       2.66667     3  FAKE\n",
       "accepted    5.66667     3  FAKE\n",
       "foster           10     2  FAKE\n",
       "applauded         9     2  FAKE\n",
       "accepting         8     2  FAKE\n",
       "acceptance        7     2  FAKE\n",
       "man               5     2  FAKE\n",
       "12th              2     2  FAKE\n",
       "second          2.5     2  FAKE"
      ]
     },
     "execution_count": 32,
     "metadata": {},
     "output_type": "execute_result"
    }
   ],
   "source": [
    "comparison_df[comparison_df['label'] == 'FAKE'].sort_values('count', ascending=0).head(10)"
   ]
  },
  {
   "cell_type": "markdown",
   "metadata": {},
   "source": [
    "### Conclusion\n",
    "\n",
    "As expected, the bag-of-words and TF-IDF vectors didn't do much to determine meaningful features to classify fake or real news. As outlined in my DataCamp post, this problem is a lot harder than simple text classification.\n",
    "\n",
    "That said, I did learn a few things. Namely, that linear models handle noise in this case better than the Naive Bayes multinomial classifier did. Also, finding a good dataset that has been scraped from the web and tagged for this problem would likely be a great help, and worth more of my time than parameter tuning on a clearly noisy and error prone dataset.\n",
    "\n",
    "If you spend some time researching and find anything interesting, feel free to share your findings and notes in the comments or you can always reach out on Twitter (I'm [@kjam](https://twitter.com/kjam)).\n",
    "\n",
    "I hope you had some fun exploring a new NLP dataset with me!"
   ]
  },
  {
   "cell_type": "markdown",
   "metadata": {},
   "source": [
    "### Appendix A: Top features\n",
    "\n",
    "Once I realized the Naive Bayes classifiers had identified many noisy tokens in alphabetical order as top fake news classifiers, I decided to see just how many \"top features\" the model had. "
   ]
  },
  {
   "cell_type": "code",
   "execution_count": 33,
   "metadata": {},
   "outputs": [
    {
     "name": "stdout",
     "output_type": "stream",
     "text": [
      "0 (-9.946977983610656, '100th')\n"
     ]
    }
   ],
   "source": [
    "feature_names = count_vectorizer.get_feature_names()\n",
    "for idx, ftr_weight in enumerate(sorted(zip(mn_count_clf.coef_[0], feature_names))):\n",
    "    if ftr_weight[0] <= -16.067750538483136:\n",
    "        continue\n",
    "    print(idx, ftr_weight)\n",
    "    break"
   ]
  },
  {
   "cell_type": "code",
   "execution_count": null,
   "metadata": {},
   "outputs": [],
   "source": []
  }
 ],
 "metadata": {
  "kernelspec": {
   "display_name": "Python 3",
   "language": "python",
   "name": "python3"
  },
  "language_info": {
   "codemirror_mode": {
    "name": "ipython",
    "version": 3
   },
   "file_extension": ".py",
   "mimetype": "text/x-python",
   "name": "python",
   "nbconvert_exporter": "python",
   "pygments_lexer": "ipython3",
   "version": "3.7.3"
  }
 },
 "nbformat": 4,
 "nbformat_minor": 1
}
