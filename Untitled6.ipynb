{
 "cells": [
  {
   "cell_type": "code",
   "execution_count": 410,
   "metadata": {},
   "outputs": [],
   "source": [
    "import pandas as pd\n",
    "import numpy as np\n",
    "import itertools\n",
    "from sklearn.feature_extraction.text import CountVectorizer, TfidfVectorizer, HashingVectorizer\n",
    "from sklearn.model_selection import train_test_split\n",
    "from sklearn.linear_model import PassiveAggressiveClassifier, SGDClassifier\n",
    "from sklearn.svm import LinearSVC\n",
    "from sklearn.naive_bayes import MultinomialNB\n",
    "from sklearn import metrics\n",
    "import matplotlib.pyplot as plt\n",
    "from sklearn.model_selection import KFold\n",
    "from sklearn.model_selection import ShuffleSplit\n",
    "from sklearn import model_selection\n",
    "from sklearn.model_selection import cross_val_score\n"
   ]
  },
  {
   "cell_type": "code",
   "execution_count": 411,
   "metadata": {
    "scrolled": true
   },
   "outputs": [
    {
     "name": "stderr",
     "output_type": "stream",
     "text": [
      "b'Skipping line 9: expected 3 fields, saw 9\\nSkipping line 11: expected 3 fields, saw 9\\nSkipping line 12: expected 3 fields, saw 4\\nSkipping line 13: expected 3 fields, saw 11\\nSkipping line 16: expected 3 fields, saw 6\\nSkipping line 17: expected 3 fields, saw 4\\nSkipping line 19: expected 3 fields, saw 10\\nSkipping line 20: expected 3 fields, saw 4\\nSkipping line 22: expected 3 fields, saw 11\\nSkipping line 23: expected 3 fields, saw 5\\nSkipping line 25: expected 3 fields, saw 10\\nSkipping line 26: expected 3 fields, saw 7\\nSkipping line 29: expected 3 fields, saw 4\\nSkipping line 30: expected 3 fields, saw 8\\nSkipping line 31: expected 3 fields, saw 4\\nSkipping line 34: expected 3 fields, saw 4\\nSkipping line 35: expected 3 fields, saw 7\\nSkipping line 40: expected 3 fields, saw 5\\nSkipping line 42: expected 3 fields, saw 8\\nSkipping line 44: expected 3 fields, saw 7\\nSkipping line 45: expected 3 fields, saw 8\\nSkipping line 47: expected 3 fields, saw 9\\nSkipping line 49: expected 3 fields, saw 5\\nSkipping line 50: expected 3 fields, saw 4\\nSkipping line 51: expected 3 fields, saw 4\\nSkipping line 52: expected 3 fields, saw 13\\nSkipping line 55: expected 3 fields, saw 7\\nSkipping line 56: expected 3 fields, saw 6\\nSkipping line 58: expected 3 fields, saw 4\\nSkipping line 60: expected 3 fields, saw 4\\nSkipping line 62: expected 3 fields, saw 6\\nSkipping line 66: expected 3 fields, saw 5\\nSkipping line 68: expected 3 fields, saw 4\\nSkipping line 69: expected 3 fields, saw 5\\nSkipping line 71: expected 3 fields, saw 6\\nSkipping line 72: expected 3 fields, saw 8\\nSkipping line 73: expected 3 fields, saw 4\\nSkipping line 81: expected 3 fields, saw 10\\nSkipping line 83: expected 3 fields, saw 4\\nSkipping line 96: expected 3 fields, saw 4\\nSkipping line 98: expected 3 fields, saw 4\\nSkipping line 99: expected 3 fields, saw 11\\nSkipping line 101: expected 3 fields, saw 4\\nSkipping line 102: expected 3 fields, saw 6\\nSkipping line 103: expected 3 fields, saw 7\\nSkipping line 107: expected 3 fields, saw 5\\nSkipping line 149: expected 3 fields, saw 4\\n'\n",
      "b'Skipping line 4: expected 5 fields, saw 8\\nSkipping line 7: expected 5 fields, saw 6\\nSkipping line 10: expected 5 fields, saw 7\\nSkipping line 20: expected 5 fields, saw 7\\n'\n"
     ]
    }
   ],
   "source": [
    "df = pd.read_csv(r'corpusTestAndTrainS7i7.csv',encoding='latin-1', error_bad_lines=False)\n",
    "df1=pd.read_csv(r'datatsetTest12.csv',encoding='latin-1', error_bad_lines=False)"
   ]
  },
  {
   "cell_type": "code",
   "execution_count": 412,
   "metadata": {},
   "outputs": [],
   "source": [
    "#y = df.label"
   ]
  },
  {
   "cell_type": "code",
   "execution_count": null,
   "metadata": {},
   "outputs": [],
   "source": [
    "\n"
   ]
  },
  {
   "cell_type": "code",
   "execution_count": 413,
   "metadata": {},
   "outputs": [],
   "source": [
    "#X_train = df['text']"
   ]
  },
  {
   "cell_type": "code",
   "execution_count": 414,
   "metadata": {},
   "outputs": [
    {
     "name": "stderr",
     "output_type": "stream",
     "text": [
      "b'Skipping line 4: expected 5 fields, saw 8\\nSkipping line 7: expected 5 fields, saw 6\\nSkipping line 10: expected 5 fields, saw 7\\nSkipping line 20: expected 5 fields, saw 7\\n'\n"
     ]
    }
   ],
   "source": [
    "df1 = pd.read_csv(r'datatsetTest12.csv',encoding='latin-1', error_bad_lines=False)"
   ]
  },
  {
   "cell_type": "code",
   "execution_count": 415,
   "metadata": {},
   "outputs": [],
   "source": [
    "X_train = df.text\n",
    "X_test= df1.text\n",
    "y_train=df.label\n",
    "y_test=df1.label\n"
   ]
  },
  {
   "cell_type": "code",
   "execution_count": 416,
   "metadata": {
    "scrolled": true
   },
   "outputs": [
    {
     "ename": "SyntaxError",
     "evalue": "can't assign to function call (<ipython-input-416-032a441043fd>, line 5)",
     "output_type": "error",
     "traceback": [
      "\u001b[1;36m  File \u001b[1;32m\"<ipython-input-416-032a441043fd>\"\u001b[1;36m, line \u001b[1;32m5\u001b[0m\n\u001b[1;33m    cast(X_test) = tokenizer.texts_to_sequences(X_test)\u001b[0m\n\u001b[1;37m                                                       ^\u001b[0m\n\u001b[1;31mSyntaxError\u001b[0m\u001b[1;31m:\u001b[0m can't assign to function call\n"
     ]
    }
   ],
   "source": [
    "from keras.preprocessing.text import Tokenizer\n",
    "tokenizer = Tokenizer(num_words=50000)\n",
    "tokenizer.fit_on_texts(X_train)\n",
    "X_train = tokenizer.texts_to_sequences(X_train)\n",
    "X_test = tokenizer.texts_to_sequences(X_test)\n",
    "vocab_size = len(tokenizer.word_index) + 1\n",
    "\n",
    "tfidf_vectorizer = TfidfVectorizer(stop_words='english', max_df=0.7)\n",
    "tfidf_train = tfidf_vectorizer.fit_transform(X_train)\n",
    "tfidf_test = tfidf_vectorizer.transform(X_test)\n"
   ]
  },
  {
   "cell_type": "code",
   "execution_count": null,
   "metadata": {},
   "outputs": [],
   "source": [
    "\n",
    "mn_tfidf_clf.fit(tfidf_train, y_train)\n",
    "pred = mn_tfidf_clf.predict(tfidf_test)\n",
    "score = metrics.accuracy_score(y_test, pred)\n",
    "print(\"accuracy:   %0.3f\" % score)"
   ]
  },
  {
   "cell_type": "code",
   "execution_count": null,
   "metadata": {},
   "outputs": [],
   "source": []
  }
 ],
 "metadata": {
  "kernelspec": {
   "display_name": "Python 3",
   "language": "python",
   "name": "python3"
  },
  "language_info": {
   "codemirror_mode": {
    "name": "ipython",
    "version": 3
   },
   "file_extension": ".py",
   "mimetype": "text/x-python",
   "name": "python",
   "nbconvert_exporter": "python",
   "pygments_lexer": "ipython3",
   "version": "3.7.3"
  }
 },
 "nbformat": 4,
 "nbformat_minor": 2
}
